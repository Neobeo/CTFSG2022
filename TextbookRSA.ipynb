{
 "cells": [
  {
   "cell_type": "markdown",
   "metadata": {},
   "source": [
    "# Textbook RSA\n",
    "\n",
    "This is a pretty fun challenge that essentially boils down to: If you can determine $d_1$ you are done. For math purposes, we will use $d_1$, $N_1$, and $N_2$ to refer to `priv1`, `pub1`, and `pub2` respectively.\n",
    "\n",
    "Let's start off by getting our parameters from the remote server."
   ]
  },
  {
   "cell_type": "code",
   "execution_count": 1,
   "metadata": {},
   "outputs": [
    {
     "name": "stdout",
     "output_type": "stream",
     "text": [
      "[x] Opening connection to chals.ctf.sg on port 10301\n",
      "[x] Opening connection to chals.ctf.sg on port 10301: Trying 178.128.215.64\n",
      "[+] Opening connection to chals.ctf.sg on port 10301: Done\n",
      "enc_flag=1388714090704906567737751820371049635813317690959338577217579618718306592417951718932766694793089754045991949063726979658535268848385960389362390405296449316302361528389024290397582037\n",
      "enc_d1=3925965248886933389323944939633610468454108277934339138210192235270241445899985396165397341051835966952505868094883467717628929069596773329644288186985679987676300860825217778491052387\n",
      "N1=2435358538630566974005724606037897829743591167742859547132109786791544639082574131698254012704489428622440555764717019055845504876382969702524795667185669308078066892872302798671295183\n",
      "N2=7129685878343952152493055619580676123740220078164018320975410092116141694830564940977902387382549139187422734846999791729348860103043228587726621551517850670710000039425133528602793683\n"
     ]
    }
   ],
   "source": [
    "from pwn import *\n",
    "sh = remote('chals.ctf.sg', 10301)\n",
    "def getline():\n",
    "    sh.recvuntil(b'= ')\n",
    "    return int(sh.recvline(), 16)\n",
    "\n",
    "enc_flag = getline()\n",
    "enc_d1 = getline()\n",
    "N1 = getline()\n",
    "N2 = getline()\n",
    "assert N2>2*N1, \"Unlucky, try again\"\n",
    "\n",
    "print(f'{enc_flag=}')\n",
    "print(f'{enc_d1=}')\n",
    "print(f'{N1=}')\n",
    "print(f'{N2=}')"
   ]
  },
  {
   "cell_type": "markdown",
   "metadata": {},
   "source": [
    "First thing we need is a mental model of how big the values are. It should look something like this:\n",
    "![model](textbook_model.png)\n",
    "\n",
    "We know that $0 < d_1 < N_1 < N_2$, and more specifically we will require $N_1 < \\frac{N_2}{2}$ for our exploit to work -- but don't worry, this happens more than 96% of the time, or to be precise $2-\\frac{3}{2}\\log{2}\\approx 0.9603$ (proof left to the reader), and we'll just rerun the script otherwise.\n",
    "\n",
    "Now, the idea here is we want to leak the value $t = \\frac{N_2}{d_1} \\in \\mathbb{R}$. In the picture above, we'd have $t$ roughly equal to 7.4.\n",
    "\n",
    "The server gives us an oracle whereby for any integer $m$ it can tell us whether $d_1 m \\bmod{N_2} \\geq N_1$ -- let's call this `is_error(m)`. This is because RSA is severely broken, but basically we can multiply our message by the encrypted $m^e$ and the decryptor will turn it back to $m$.\n",
    "\n",
    "In any case, we can see that if we just sweep the small values of $m$ in order, the oracle will give us a series of `False`s followed by a series of `True`s followed by a series of `False`s again etc. In particular, this gives us enough to learn the value of $\\left\\lfloor t \\right\\rfloor$. In the picture above, we'd have `is_error(7) == True` and `is_error(8) == False`, so what we learn from this is that $7 \\leq t \\leq 8$.\n",
    "\n",
    "Now we wish to split this interval in half, so that $t \\in [7, 7.5]$ or $t \\in [7.5,8]$. We cannot query `is_error(7.5)` directly because `7.5` is not an integer, but it turns out that is exactly equivalent to `is_error(15)`. The proof is again left to the reader as an exercise, but it's worth pointing out that the proof requires the crucial property that $N_1+d_1<N_2$, which we can only guarantee if $N_1 < \\frac{N_2}{2}$.\n",
    "\n",
    "So we can keep halving the interval this way, effectively learning one bit of $t$ per query. Since the value we want is $d_1 = \\frac{N_2}{t}$, we can stop as soon as we have an interval $[t_L, t_H]$ small enough such that\n",
    "$$\\left\\lceil\\frac{N_2}{t_H}\\right\\rceil = \\left\\lfloor\\frac{N_2}{t_L}\\right\\rfloor,$$\n",
    "and this value must necessarily be the $d_1$ that we seek.\n",
    "\n",
    "For python purposes, we represent our `t` as shifted left so it's always an integer, but the mental model should be that it is a real number."
   ]
  },
  {
   "cell_type": "code",
   "execution_count": 2,
   "metadata": {},
   "outputs": [
    {
     "name": "stderr",
     "output_type": "stream",
     "text": [
      "  0%|          | 1/997 [00:01<17:32,  1.06s/it]\n"
     ]
    },
    {
     "name": "stdout",
     "output_type": "stream",
     "text": [
      "c1=2\n"
     ]
    },
    {
     "name": "stderr",
     "output_type": "stream",
     "text": [
      "  0%|          | 1/993 [00:01<18:16,  1.11s/it]\n"
     ]
    },
    {
     "name": "stdout",
     "output_type": "stream",
     "text": [
      "c2=6\n"
     ]
    },
    {
     "name": "stderr",
     "output_type": "stream",
     "text": [
      " 61%|██████    | 605/999 [05:30<03:35,  1.83it/s]"
     ]
    },
    {
     "name": "stdout",
     "output_type": "stream",
     "text": [
      "It took us a total of 609 queries, but we got there!\n",
      "lower=1077344320795541414931625917851759065564889987872514518370601750746303037616643868748886588239417868915668163328367309419779925665438236578280067547964746219064327646845986944575367681\n"
     ]
    },
    {
     "name": "stderr",
     "output_type": "stream",
     "text": [
      "\n"
     ]
    }
   ],
   "source": [
    "from tqdm import trange\n",
    "\n",
    "querycount = 0\n",
    "def is_error(m):\n",
    "    global querycount\n",
    "    querycount += 1\n",
    "    sh.sendline(str((pow(m, 65537, N2) * enc_d1) % N2).encode())\n",
    "    return b'Error' in sh.recvline()\n",
    "\n",
    "c1 = next(x for x in trange(2,999) if is_error(x)) - 1\n",
    "print(f'{c1=}')\n",
    "c2 = next(x for x in trange(c1*N2//N1+1,999) if not is_error(x)) - 1\n",
    "print(f'{c2=}')\n",
    "\n",
    "t = c2\n",
    "for i in trange(999):\n",
    "    upper = 2**i * N2 // t\n",
    "    lower = 2**i * N2 // (t+1) + 1\n",
    "    if upper==lower: break\n",
    "    t = 2*t + is_error(2*t+1)\n",
    "\n",
    "print(f'It took us a total of {querycount} queries, but we got there!')\n",
    "print(f'{lower=}')"
   ]
  },
  {
   "cell_type": "markdown",
   "metadata": {},
   "source": [
    "Hooray! We successfully leaked $d_1$, so all that's left to do is get the flag."
   ]
  },
  {
   "cell_type": "code",
   "execution_count": 3,
   "metadata": {},
   "outputs": [
    {
     "data": {
      "text/plain": [
       "b'CTFSG{https://arxiv.org/abs/1802.03367?salt=290nlk01nx}'"
      ]
     },
     "execution_count": 3,
     "metadata": {},
     "output_type": "execute_result"
    }
   ],
   "source": [
    "from Crypto.Util.number import long_to_bytes\n",
    "from hashlib import shake_128\n",
    "\n",
    "def xor_bytes(a, b): return type(a)([x ^ y for x, y in zip(a, b)])\n",
    "def unpad(msg: bytes) -> bytes:\n",
    "    msg = bytearray(msg)\n",
    "    msg[38:] = xor_bytes(msg[38:], shake_128(msg[:38]).digest(38))\n",
    "    msg[:38] = xor_bytes(msg[:38], shake_128(msg[38:]).digest(38))\n",
    "    msg = msg[:-msg[-1]-8]\n",
    "    return bytes(msg)\n",
    "\n",
    "unpad(long_to_bytes(pow(enc_flag, lower, N1)))"
   ]
  },
  {
   "cell_type": "markdown",
   "metadata": {},
   "source": [
    "## Post-solve analysis: Reducing the query count\n",
    "\n",
    "600 queries is pretty good, but we actually only need about half that. Recall that $d_1 e = 1 + k \\phi(N_1)$ for some integer $1 \\leq k \\leq e$. This means that\n",
    "$$d_1 \\approx \\frac{kN}{e},$$\n",
    "and in fact this approximation matches the exact value of $d_1$ to half its top bits [citation needed, probably Boneh-Durfee]. Since $k$ is small (roughly 16 bits of information), if we have 16 bits of $t$ from the original procedure then we have a small enough interval for $d_1$ such that we can pick out the specific value of $k$. In other words, we can learn 300 bits from just 16 bits, saving some 284 queries.\n",
    "\n",
    "Not much can be done for the lower half, but towards the end  you can just brute force over all possible values of $d_1$ (as the range becomes small enough). This actually admits a meet-in-the-middle attack, so that e.g. you can learn the lowest 60 bits by just doing a $O(2^{30})$ brute force, which is a typically feasible brute force amount (depending on your appetite / GPU / time utility), so that saves another 60 or so queries.\n",
    "\n",
    "In conclusion, this challenge can be solved in under 300 queries, though I haven't bothered to implement any of it so it's just theoretical."
   ]
  }
 ],
 "metadata": {
  "kernelspec": {
   "display_name": "Python 3",
   "language": "python",
   "name": "python3"
  },
  "language_info": {
   "codemirror_mode": {
    "name": "ipython",
    "version": 3
   },
   "file_extension": ".py",
   "mimetype": "text/x-python",
   "name": "python",
   "nbconvert_exporter": "python",
   "pygments_lexer": "ipython3",
   "version": "3.8.10"
  }
 },
 "nbformat": 4,
 "nbformat_minor": 4
}
