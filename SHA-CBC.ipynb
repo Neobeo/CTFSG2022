{
 "cells": [
  {
   "cell_type": "markdown",
   "metadata": {},
   "source": [
    "# SHA CBC\n",
    "\n",
    "We are given a huge encoded file and a python script that tells us how it was encrypted. As the saying goes, \"It's like AES-CBC but with SHAKE-128 instead.\" In any case, it's basically 100000 copies of the flag, all encrypted."
   ]
  },
  {
   "cell_type": "code",
   "execution_count": 1,
   "metadata": {},
   "outputs": [
    {
     "data": {
      "text/plain": [
       "6300000"
      ]
     },
     "execution_count": 1,
     "metadata": {},
     "output_type": "execute_result"
    }
   ],
   "source": [
    "allbytes = open('flag.enc', 'rb').read()\n",
    "len(allbytes)"
   ]
  },
  {
   "cell_type": "markdown",
   "metadata": {},
   "source": [
    "Great, our `naked_flag` must have length 63. The CBC part of this encryption means that `current_enc_block = hash(prev_enc_block ^ current_raw_block)`. Since it is infeasible to reverse the hash, the challenge here must be to find two identical values of `current_enc_block` that have a different `prev_enc_block`, so that we know the XOR of the two raw blocks. This is made particularly difficult by the fact that the hash might not be injective. Specifically, there are two types of collisions we might find:\n",
    "1. An actual hash collision $hash(i)=hash(j)$ with $i\\neq j$.\n",
    "2. Two hashes of the same XORed block, but with a different `prev_enc_block`, and this is what gives us information.\n",
    "\n",
    "Still, the first step is to find all `current_enc_block` values that take multiple distinct (`position % 63`, `prev_enc_block`) tuples."
   ]
  },
  {
   "cell_type": "code",
   "execution_count": 2,
   "metadata": {},
   "outputs": [
    {
     "name": "stdout",
     "output_type": "stream",
     "text": [
      "len(good)=130\n"
     ]
    },
    {
     "data": {
      "text/plain": [
       "[(14, 59, '870f0dfe'),\n",
       " (61, 48, '331c6f07'),\n",
       " (0, 15, '8e980296'),\n",
       " (14, 12, 'b832cb8c'),\n",
       " (26, 22, '10186508'),\n",
       " (25, 39, '1d05a005'),\n",
       " (57, 45, '736de627'),\n",
       " (39, 16, '31480802'),\n",
       " (46, 44, '9d203e49'),\n",
       " (22, 58, '13758ae6')]"
      ]
     },
     "execution_count": 2,
     "metadata": {},
     "output_type": "execute_result"
    }
   ],
   "source": [
    "from Crypto.Util.strxor import strxor\n",
    "from itertools import combinations\n",
    "\n",
    "dic = {}\n",
    "for i in range(4, len(allbytes), 4):\n",
    "    dic.setdefault(allbytes[i:i+4], set()).add((i % 63, allbytes[i-4:i]))\n",
    "good = [(a,c,strxor(b,d)) for v in dic.values() for (a,b),(c,d) in combinations(v,2)]\n",
    "print(f'{len(good)=}')\n",
    "[(a,b,c.hex()) for a,b,c in good][:10]"
   ]
  },
  {
   "cell_type": "markdown",
   "metadata": {},
   "source": [
    "We find that there are 130 such collisions, though we don't know which type is which. In that case, the best chance of getting the right flag is to just maximise number of blocks that satisfy the second condition.\n",
    "\n",
    "We will use z3 to maximise the number of satisfied predicates."
   ]
  },
  {
   "cell_type": "code",
   "execution_count": 3,
   "metadata": {},
   "outputs": [
    {
     "data": {
      "text/plain": [
       "'CTFSG{Oh I gUesS I hAVe alwAys likEd pOurIng ThingS inTo oTher ThiNgs}'"
      ]
     },
     "execution_count": 3,
     "metadata": {},
     "output_type": "execute_result"
    }
   ],
   "source": [
    "from z3 import *\n",
    "s = Optimize()\n",
    "bv = [BitVec(f'b{i}', 8) for i in range(63)]\n",
    "s.add(And([Or([b == c for c in b'abcdefghijklmnopqrstuvwxyzABCDEFGHIJKLMNOPQRSTUVWXYZ ']) for b in bv]))\n",
    "total = sum(If(And([bv[(a+i)%63]^bv[(b+i)%63]==z[i] for i in range(4)]),1,0) for a,b,z in good)\n",
    "s.maximize(total)\n",
    "assert s.check() == sat\n",
    "f\"CTFSG{{{''.join(chr(s.model()[b].as_long()) for b in bv)}}}\""
   ]
  },
  {
   "cell_type": "markdown",
   "metadata": {},
   "source": [
    "And there's our flag! Just for fun, let's see how many of our 130 collisions are of the second type:"
   ]
  },
  {
   "cell_type": "code",
   "execution_count": 4,
   "metadata": {},
   "outputs": [
    {
     "data": {
      "text/html": [
       "63"
      ],
      "text/plain": [
       "63"
      ]
     },
     "execution_count": 4,
     "metadata": {},
     "output_type": "execute_result"
    }
   ],
   "source": [
    "s.model().evaluate(total)"
   ]
  }
 ],
 "metadata": {
  "kernelspec": {
   "display_name": "Python 3",
   "language": "python",
   "name": "python3"
  },
  "language_info": {
   "codemirror_mode": {
    "name": "ipython",
    "version": 3
   },
   "file_extension": ".py",
   "mimetype": "text/x-python",
   "name": "python",
   "nbconvert_exporter": "python",
   "pygments_lexer": "ipython3",
   "version": "3.8.10"
  }
 },
 "nbformat": 4,
 "nbformat_minor": 4
}
