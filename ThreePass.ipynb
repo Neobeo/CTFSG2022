{
 "cells": [
  {
   "cell_type": "markdown",
   "metadata": {},
   "source": [
    "# ThreePass\n",
    "\n",
    "The short answer to this challenge is: Keep submitting 0 and it will be correct roughly 11.8% of the time. Read after the line for a longer explanation.\n",
    "\n",
    "---\n",
    "\n",
    "In this challenge, we are given three 8-digit integers `x`, `y`, and `z`, and have to compute `q(x,y,z)` (as given in the token):\n",
    "```\n",
    "def q(x,y,z):return sum([q(~-x,y,z-f)for f in range(-~y)])%0x39bfef87 if x else z==0\n",
    "print(q(*map(int,input().split())))\n",
    "```\n",
    "\n",
    "The catch is it has to run within three seconds, and the function above will almost definitely not complete within that time. Through some investigation, it should become apparent that $q(x,y,z)$ counts the number of ways to place $z$ identical balls into $x$ distinguishable boxes, such that no box contains more than $y$ balls. Equivalently, we can denote this in terms of generating functions:\n",
    "\n",
    "$$ q(x,y,z) = \\left[t^z\\right]\\left(\\frac{1-t^{y+1}}{1-t}\\right)^x, $$\n",
    "\n",
    "where the notation $\\left[t^z\\right]$ denotes the coefficient of $t^z$.\n",
    "\n",
    "It is an easy check that\n",
    "\n",
    "$$\\left(1-t^{y+1}\\right)^x = \\sum_{i=0}^x \\binom{x}{i} (-t)^{i(y+1)} \\,\\text{ and }\\, (1-t)^{-x}=\\sum_{i=0}^\\infty\\binom{x-1+i}{x-1}t^i.$$\n",
    "\n",
    "Consequently, we can combine these two to get a simple enough form for our desired function:\n",
    "\n",
    "$$ q(x,y,z) = \\sum_{i=0}^{\\left\\lfloor z/(y+1)\\right\\rfloor} (-1)^i \\binom{x}{i} \\binom{x-1+z-i(y+1)}{x-1}. $$\n",
    "\n",
    "For the values we get from the challenge, we have never seen a value of $\\left\\lfloor\\frac{z}{y+1}\\right\\rfloor$ that exceeds 5, so it is a very practical sum to evaluate for the purpose of this challenge. We use `gmpy2.bincoef` to calculate the binomial coefficient."
   ]
  },
  {
   "cell_type": "code",
   "execution_count": 1,
   "metadata": {},
   "outputs": [
    {
     "name": "stdout",
     "output_type": "stream",
     "text": [
      "[x] Opening connection to chals.ctf.sg on port 20501\n",
      "[x] Opening connection to chals.ctf.sg on port 20501: Trying 178.128.20.61\n",
      "[+] Opening connection to chals.ctf.sg on port 20501: Done\n",
      "x=11415689, y=21235676, z=65165425, res=mpz(519091512)\n",
      "[x] Receiving all data\n",
      "[x] Receiving all data: 18B\n",
      "[x] Receiving all data: 47B\n",
      "[+] Receiving all data: Done (47B)\n",
      "[*] Closed connection to chals.ctf.sg port 20501\n",
      "Token's response: ThreePass challenge expired!\n",
      "\n",
      "CPU times: user 2.51 s, sys: 37.5 ms, total: 2.54 s\n",
      "Wall time: 5.15 s\n"
     ]
    }
   ],
   "source": [
    "from pwn import *\n",
    "from gmpy2 import bincoef\n",
    "\n",
    "def testfunc(q):\n",
    "    with remote('chals.ctf.sg',20501) as sh:\n",
    "        sh.recvuntil(b'orders.\\n\\n')\n",
    "        x = int(sh.recvline())\n",
    "        y = int(sh.recvline())\n",
    "        z = int(sh.recvline())\n",
    "        res = q(x,y,z)\n",
    "        print(f'{x=}, {y=}, {z=}, {res=}')\n",
    "        sh.sendline(str(res).encode())\n",
    "        print(sh.recvall().decode())\n",
    "\n",
    "def q_fast(x,y,z):\n",
    "    return sum((-1)**i * bincoef(x,i) * bincoef(x-1+z-i*(y+1),x-1) for i in range(z//(y+1)+1)) % 0x39bfef87\n",
    "\n",
    "%time testfunc(q_fast)"
   ]
  },
  {
   "cell_type": "markdown",
   "metadata": {},
   "source": [
    "On my machine, this runs fast enough half the time. But let's go even faster! First we notice that the modulo `0x39bfef87` is actually a semi-prime, i.e. $968880007 = 3881 \\times 249647$. This is good because we can calculate binomial coefficients very quickly modulo a prime. So we will calculate $q$ modulo the two different primes, then use CRT to combine them into the final answer.\n",
    "\n",
    "Factorials can be calculated relatively cheaply due to Wilson's theorem, and thus we have a fast binomial coefficient calculator (mod p)."
   ]
  },
  {
   "cell_type": "code",
   "execution_count": 2,
   "metadata": {},
   "outputs": [
    {
     "name": "stdout",
     "output_type": "stream",
     "text": [
      "[x] Opening connection to chals.ctf.sg on port 20501\n",
      "[x] Opening connection to chals.ctf.sg on port 20501: Trying 178.128.20.61\n",
      "[+] Opening connection to chals.ctf.sg on port 20501: Done\n",
      "x=17435464, y=26029518, z=67796743, res=mpz(423131791)\n",
      "[x] Receiving all data\n",
      "[x] Receiving all data: 18B\n",
      "[x] Receiving all data: 19B\n",
      "[x] Receiving all data: 83B\n",
      "[+] Receiving all data: Done (83B)\n",
      "[*] Closed connection to chals.ctf.sg port 20501\n",
      "Token's response: \n",
      "ThreePass OTP Challenge Successful!\n",
      "CTFSG{c_3_ch00sing_Nvmb3Rs}\n",
      "\n",
      "CPU times: user 82.9 ms, sys: 10.2 ms, total: 93 ms\n",
      "Wall time: 2.75 s\n"
     ]
    }
   ],
   "source": [
    "from sympy.ntheory.modular import crt\n",
    "\n",
    "factorial_cache = {}\n",
    "def factorial_p(n, p):\n",
    "    if n < p:\n",
    "        if p not in factorial_cache:\n",
    "            lst = [1]\n",
    "            for i in range(1, p):\n",
    "                lst.append(lst[-1] * i % p)\n",
    "            factorial_cache[p] = lst\n",
    "        return factorial_cache[p][n]\n",
    "    return (-1)**(n//p) * factorial_p(n%p,p) * factorial_p(n//p,p) % p\n",
    "\n",
    "def largest_power(n,p):\n",
    "    if n < p: return 0\n",
    "    return n//p + largest_power(n//p,p)\n",
    "\n",
    "def bincoef_p(n,k,p):\n",
    "    if largest_power(n,p) > largest_power(k,p) + largest_power(n-k,p): return 0\n",
    "    return factorial_p(n,p) * pow(factorial_p(k,p)*factorial_p(n-k,p),-1,p) % p\n",
    "\n",
    "def q_faster(x,y,z):\n",
    "    qp=lambda x,y,z,p:sum((-1)**i * bincoef_p(x,i,p) * bincoef_p(x-1+z-i*(y+1),x-1,p) for i in range(z//(y+1)+1)) % p\n",
    "    p1,p2=3881,249647\n",
    "    a=qp(x,y,z,p1)\n",
    "    b=qp(x,y,z,p2)\n",
    "    return crt([p1,p2],[a,b])[0]\n",
    "\n",
    "%time testfunc(q_faster)"
   ]
  },
  {
   "cell_type": "markdown",
   "metadata": {},
   "source": [
    "## Appendix"
   ]
  },
  {
   "cell_type": "markdown",
   "metadata": {},
   "source": [
    "How often do we get a 0? Let's find out, using observed bounds for x,y,z. Roughly speaking though, $\\binom{n}{k}$ is roughly 50% likely to be a multiple of $p$ if $n$ and $k$ are both larger than $p$, and that probability increases as $n$ and $k$ become much larger than $p$. However, we are adding a few of these binomial coefficients, so we'd need all of them to be zero to get a final response value of 0, which brings the probability down overall to around 11.8% (by Monte Carlo)."
   ]
  },
  {
   "cell_type": "code",
   "execution_count": 3,
   "metadata": {},
   "outputs": [
    {
     "data": {
      "text/plain": [
       "0.11774"
      ]
     },
     "execution_count": 3,
     "metadata": {},
     "output_type": "execute_result"
    }
   ],
   "source": [
    "from random import randint\n",
    "from statistics import mean\n",
    "\n",
    "def test():\n",
    "    x = randint(10000000, 19999999)\n",
    "    y = randint(20000000, 29999999)\n",
    "    z = randint(50000000, 99999999)\n",
    "    return q_faster(x, y, z)\n",
    "\n",
    "mean(test() == 0 for _ in range(100000))"
   ]
  }
 ],
 "metadata": {
  "kernelspec": {
   "display_name": "Python 3",
   "language": "python",
   "name": "python3"
  },
  "language_info": {
   "codemirror_mode": {
    "name": "ipython",
    "version": 3
   },
   "file_extension": ".py",
   "mimetype": "text/x-python",
   "name": "python",
   "nbconvert_exporter": "python",
   "pygments_lexer": "ipython3",
   "version": "3.8.10"
  }
 },
 "nbformat": 4,
 "nbformat_minor": 4
}
